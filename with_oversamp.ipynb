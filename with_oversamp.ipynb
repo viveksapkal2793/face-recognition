{
 "cells": [
  {
   "cell_type": "code",
   "execution_count": 10,
   "metadata": {},
   "outputs": [],
   "source": [
    "already_loaded = True\n",
    "augmented = False\n",
    "oversampled = True\n",
    "transformed = True\n",
    "trained_knn = True\n",
    "trained_svm =True\n",
    "plot = False"
   ]
  },
  {
   "cell_type": "markdown",
   "metadata": {},
   "source": [
    "#### **Imports**"
   ]
  },
  {
   "cell_type": "code",
   "execution_count": 11,
   "metadata": {},
   "outputs": [],
   "source": [
    "from joblib import dump, load\n",
    "import numpy as np\n",
    "from collections import Counter\n",
    "import os\n",
    "import cv2\n",
    "import random\n",
    "\n",
    "from sklearn.utils import shuffle\n",
    "from sklearn.datasets import fetch_lfw_people\n",
    "\n",
    "from sklearn.svm import SVC\n",
    "from sklearn.neighbors import KNeighborsClassifier\n",
    "\n",
    "from sklearn.decomposition import PCA\n",
    "from sklearn.discriminant_analysis import LinearDiscriminantAnalysis as LDA\n",
    "from sklearn.model_selection import train_test_split, GridSearchCV\n",
    "from sklearn.metrics import accuracy_score\n",
    "\n",
    "from imblearn.over_sampling import SMOTE, ADASYN\n",
    "\n",
    "import matplotlib.pyplot as plt\n",
    "import seaborn as sns"
   ]
  },
  {
   "cell_type": "markdown",
   "metadata": {},
   "source": [
    "#### **Loading Dataset**"
   ]
  },
  {
   "cell_type": "code",
   "execution_count": 12,
   "metadata": {},
   "outputs": [
    {
     "name": "stdout",
     "output_type": "stream",
     "text": [
      "Total dataset size:\n",
      "n_samples: 2489\n",
      "Image dimensions: 125 x 94 x 3\n",
      "n_features: 35250\n",
      "n_classes: 43\n"
     ]
    }
   ],
   "source": [
    "if not already_loaded:\n",
    "    \n",
    "    # Load the LFW dataset in color with original image size\n",
    "    lfw_people = fetch_lfw_people(color=True, resize=None, min_faces_per_person=20)\n",
    "\n",
    "    n_samples, h, w, c = lfw_people.images.shape\n",
    "\n",
    "    X = lfw_people.data\n",
    "    n_features = X.shape[1]\n",
    "\n",
    "    y = lfw_people.target\n",
    "    target_names = lfw_people.target_names\n",
    "    n_classes = target_names.shape[0]\n",
    "\n",
    "    print(\"Total dataset size:\")\n",
    "    print(\"n_samples: %d\" % n_samples)\n",
    "    print(f\"Image dimensions: {h} x {w} x {c}\")\n",
    "    print(\"n_features: %d\" % n_features)\n",
    "    print(\"n_classes: %d\" % n_classes)\n",
    "\n",
    "    dump(lfw_people, 'lfw_dataset.joblib')\n",
    "\n",
    "else:\n",
    "    # Load the dataset from the saved file\n",
    "    lfw_people = load('lfw_dataset.joblib')\n",
    "\n",
    "    n_samples, h, w, c = lfw_people.images.shape\n",
    "\n",
    "    X = lfw_people.data\n",
    "    n_features = X.shape[1]\n",
    "\n",
    "    y = lfw_people.target\n",
    "    target_names = lfw_people.target_names\n",
    "    n_classes = target_names.shape[0]\n",
    "\n",
    "    print(\"Total dataset size:\")\n",
    "    print(\"n_samples: %d\" % n_samples)\n",
    "    print(f\"Image dimensions: {h} x {w} x {c}\")\n",
    "    print(\"n_features: %d\" % n_features)\n",
    "    print(\"n_classes: %d\" % n_classes)"
   ]
  },
  {
   "cell_type": "markdown",
   "metadata": {},
   "source": [
    "##### **Train, val, test split**"
   ]
  },
  {
   "cell_type": "code",
   "execution_count": 13,
   "metadata": {},
   "outputs": [],
   "source": [
    "# Split data into train, validation, and test sets\n",
    "X_train_val, X_test, y_train_val, y_test = train_test_split(X, y, test_size=0.2, random_state=42, stratify=y)\n",
    "X_train, X_val, y_train, y_val = train_test_split(X_train_val, y_train_val, test_size=0.125, random_state=42, stratify=y_train_val)"
   ]
  },
  {
   "cell_type": "markdown",
   "metadata": {},
   "source": [
    "#### **SMOTE & ADASYN Oversampling**"
   ]
  },
  {
   "cell_type": "code",
   "execution_count": 14,
   "metadata": {},
   "outputs": [],
   "source": [
    "if not oversampled:\n",
    "\n",
    "    # Apply SMOTE oversampling only on the training set\n",
    "    smote = SMOTE(random_state=42)\n",
    "    X_train_resampled_smote, y_train_resampled_smote = smote.fit_resample(X_train, y_train)\n",
    "\n",
    "    # Count the class distribution after SMOTE oversampling\n",
    "    print(\"Class distribution after SMOTE oversampling:\", np.bincount(y_train_resampled_smote))\n",
    "\n",
    "    # Apply ADASYN oversampling only on the training set\n",
    "    adasyn = ADASYN(random_state=42)\n",
    "    X_train_resampled_adasyn, y_train_resampled_adasyn = adasyn.fit_resample(X_train, y_train)\n",
    "\n",
    "    # Count the class distribution after ADASYN oversampling\n",
    "    print(\"Class distribution after ADASYN oversampling:\", np.bincount(y_train_resampled_adasyn))\n",
    "\n",
    "    dump(X_train_resampled_smote, 'X_train_resampled_smote.joblib')\n",
    "    dump(y_train_resampled_smote, 'y_train_resampled_smote.joblib')\n",
    "\n",
    "    dump(X_train_resampled_adasyn, 'X_train_resampled_adasyn.joblib')\n",
    "    dump(y_train_resampled_adasyn, 'y_train_resampled_adasyn.joblib')\n",
    "\n",
    "else:\n",
    "\n",
    "    X_train_resampled_smote = load('X_train_resampled_smote.joblib')\n",
    "    y_train_resampled_smote = load('y_train_resampled_smote.joblib')\n",
    "\n",
    "    X_train_resampled_adasyn = load('X_train_resampled_adasyn.joblib')\n",
    "    y_train_resampled_adasyn = load('y_train_resampled_adasyn.joblib')"
   ]
  },
  {
   "cell_type": "markdown",
   "metadata": {},
   "source": [
    "#### **PCA & LDA Transform**"
   ]
  },
  {
   "cell_type": "code",
   "execution_count": 15,
   "metadata": {},
   "outputs": [],
   "source": [
    "if not transformed:\n",
    "\n",
    "    # Perform PCA after oversampling\n",
    "    pca_smote = PCA(n_components=100)\n",
    "    pca_adasyn = PCA(n_components=100)\n",
    "\n",
    "    X_train_pca_smote = pca_smote.fit_transform(X_train_resampled_smote)\n",
    "    X_train_pca_adasyn = pca_adasyn.fit_transform(X_train_resampled_adasyn)\n",
    "\n",
    "    X_val_pca_smote = pca_smote.transform(X_val)\n",
    "    X_test_pca_smote = pca_smote.transform(X_test)\n",
    "\n",
    "    X_val_pca_adasyn = pca_adasyn.transform(X_val)\n",
    "    X_test_pca_adasyn = pca_adasyn.transform(X_test)\n",
    "\n",
    "    # Save the transformed data\n",
    "    dump(X_train_pca_smote, 'X_train_pca_smote.joblib')\n",
    "    dump(X_val_pca_smote, 'X_val_pca_smote.joblib')\n",
    "    dump(X_test_pca_smote, 'X_test_pca_smote.joblib')\n",
    "\n",
    "    dump(X_train_pca_adasyn, 'X_train_pca_adasyn.joblib')\n",
    "    dump(X_val_pca_adasyn, 'X_val_pca_adasyn.joblib')\n",
    "    dump(X_test_pca_adasyn, 'X_test_pca_adasyn.joblib')\n",
    "\n",
    "    # Perform LDA after oversampling\n",
    "    # lda_smote = LDA(n_components=None)\n",
    "    # lda_adasyn = LDA(n_components=None)\n",
    "\n",
    "    # X_train_lda_smote = lda_smote.fit_transform(X_train_resampled_smote, y_train_resampled_smote)\n",
    "    # X_train_lda_adasyn = lda_adasyn.fit_transform(X_train_resampled_adasyn, y_train_resampled_adasyn)\n",
    "\n",
    "    # X_val_lda_smote = lda_smote.transform(X_val)\n",
    "    # X_test_lda_smote = lda_smote.transform(X_test)\n",
    "\n",
    "    # X_val_lda_adasyn = lda_adasyn.transform(X_val)\n",
    "    # X_test_lda_adasyn = lda_adasyn.transform(X_test)\n",
    "\n",
    "    # dump(X_train_lda_smote, 'X_train_lda_smote.joblib')\n",
    "    # dump(X_val_lda_smote, 'X_val_lda_smote.joblib')\n",
    "    # dump(X_test_lda_smote, 'X_test_lda_smote.joblib')\n",
    "\n",
    "    # dump(X_train_lda_adasyn, 'X_train_lda_adasyn.joblib')\n",
    "    # dump(X_val_lda_adasyn, 'X_val_lda_adasyn.joblib')\n",
    "    # dump(X_test_lda_adasyn, 'X_test_lda_adasyn.joblib')\n",
    "\n",
    "else:\n",
    "\n",
    "    # Save the transformed data\n",
    "    X_train_pca_smote = load('X_train_pca_smote.joblib')\n",
    "    X_val_pca_smote = load('X_val_pca_smote.joblib')\n",
    "    X_test_pca_smote = load('X_test_pca_smote.joblib')\n",
    "\n",
    "    # X_train_lda_smote = load('X_train_lda_smote.joblib')\n",
    "    # X_val_lda_smote = load('X_val_lda_smote.joblib')\n",
    "    # X_test_lda_smote = load('X_test_lda_smote.joblib')\n",
    "\n",
    "    X_train_pca_adasyn = load('X_train_pca_adasyn.joblib')\n",
    "    X_val_pca_adasyn = load('X_val_pca_adasyn.joblib')\n",
    "    X_test_pca_adasyn = load('X_test_pca_adasyn.joblib')\n",
    "\n",
    "    # X_train_lda_adasyn = load('X_train_lda_adasyn.joblib')\n",
    "    # X_val_lda_adasyn = load('X_val_lda_adasyn.joblib')\n",
    "    # X_test_lda_adasyn = load('X_test_lda_adasyn.joblib')\n"
   ]
  },
  {
   "cell_type": "markdown",
   "metadata": {},
   "source": [
    "#### **Exp Var PLot**"
   ]
  },
  {
   "cell_type": "code",
   "execution_count": 16,
   "metadata": {},
   "outputs": [],
   "source": [
    "if plot:\n",
    "    # Plot explained variance ratio for PCA after SMOTE and ADASYN oversampling side by side\n",
    "    plt.figure(figsize=(16, 6))\n",
    "\n",
    "    # Plot for PCA on smote oversampled data\n",
    "    plt.subplot(1, 2, 1)\n",
    "    plt.plot(np.cumsum(pca_smote.explained_variance_ratio_), linestyle='-')\n",
    "    plt.xlabel('Number of Components')\n",
    "    plt.ylabel('Cumulative Explained Variance Ratio')\n",
    "    plt.title('PCA - Explained Variance Ratio (SMOTE)')\n",
    "    plt.grid(True)\n",
    "\n",
    "    # Plot for PDA on adasyn oversampled data\n",
    "    plt.subplot(1, 2, 2)\n",
    "    plt.plot(np.cumsum(pca_adasyn.explained_variance_ratio_), linestyle='-')\n",
    "    plt.xlabel('Number of Components')\n",
    "    plt.ylabel('Cumulative Explained Variance Ratio')\n",
    "    plt.title('PCA - Explained Variance Ratio (ADASYN)')\n",
    "    plt.grid(True)\n",
    "\n",
    "    plt.tight_layout() \n",
    "    plt.show()"
   ]
  },
  {
   "cell_type": "markdown",
   "metadata": {},
   "source": [
    "#### **KNN**"
   ]
  },
  {
   "cell_type": "code",
   "execution_count": 17,
   "metadata": {},
   "outputs": [
    {
     "name": "stdout",
     "output_type": "stream",
     "text": [
      "kNN:\n",
      "Train Accuracy: 1.0\n",
      "Validation Accuracy: 0.3453815261044177\n",
      "Test Accuracy: 0.3293172690763052\n"
     ]
    }
   ],
   "source": [
    "if not trained_knn:\n",
    "\n",
    "    # Define kNN classifier\n",
    "    knn = KNeighborsClassifier()\n",
    "\n",
    "    # Define parameter grid for grid search\n",
    "    knn_param_grid = {'n_neighbors': [1, 3, 5, 7]} \n",
    "\n",
    "    # Perform grid search for kNN\n",
    "    knn_grid_search = GridSearchCV(knn, knn_param_grid, cv=5)\n",
    "    knn_grid_search.fit(X_train_pca_smote, y_train_resampled_smote)\n",
    "\n",
    "    # Get best hyperparameters for kNN\n",
    "    best_knn_params = knn_grid_search.best_params_\n",
    "\n",
    "    # Train kNN classifier with best hyperparameters\n",
    "    best_knn = KNeighborsClassifier(**best_knn_params)\n",
    "    best_knn.fit(X_train_pca_smote, y_train_resampled_smote)\n",
    "\n",
    "    # Save the trained kNN model\n",
    "    dump(best_knn, 'best_knn_model.joblib')\n",
    "\n",
    "    # Predictions on train, val, and test sets\n",
    "    train_pred_knn = best_knn.predict(X_train_pca_smote)\n",
    "    val_pred_knn = best_knn.predict(X_val_pca_smote)\n",
    "    test_pred_knn = best_knn.predict(X_test_pca_smote)\n",
    "\n",
    "    # Calculate accuracies\n",
    "    train_accuracy_knn = accuracy_score(y_train_resampled_smote, train_pred_knn)\n",
    "    val_accuracy_knn = accuracy_score(y_val, val_pred_knn)\n",
    "    test_accuracy_knn = accuracy_score(y_test, test_pred_knn)\n",
    "\n",
    "    # Print accuracies\n",
    "    print(\"kNN:\")\n",
    "    print(f\"Best params: {best_knn_params}\")\n",
    "    print(f\"Train Accuracy: {train_accuracy_knn}\")\n",
    "    print(f\"Validation Accuracy: {val_accuracy_knn}\")\n",
    "    print(f\"Test Accuracy: {test_accuracy_knn}\")\n",
    "\n",
    "else:\n",
    "\n",
    "    # Load the saved kNN model\n",
    "    best_knn = load('best_knn_model.joblib')\n",
    "\n",
    "    # Predictions on train, val, and test sets\n",
    "    train_pred_knn = best_knn.predict(X_train_pca_smote)\n",
    "    val_pred_knn = best_knn.predict(X_val_pca_smote)\n",
    "    test_pred_knn = best_knn.predict(X_test_pca_smote)\n",
    "\n",
    "    # Calculate accuracies\n",
    "    train_accuracy_knn = accuracy_score(y_train_resampled_smote, train_pred_knn)\n",
    "    val_accuracy_knn = accuracy_score(y_val, val_pred_knn)\n",
    "    test_accuracy_knn = accuracy_score(y_test, test_pred_knn)\n",
    "\n",
    "    # Print accuracies\n",
    "    print(\"kNN:\")\n",
    "    # print(f\"Best params: {best_knn_params}\")\n",
    "    print(f\"Train Accuracy: {train_accuracy_knn}\")\n",
    "    print(f\"Validation Accuracy: {val_accuracy_knn}\")\n",
    "    print(f\"Test Accuracy: {test_accuracy_knn}\")"
   ]
  },
  {
   "cell_type": "markdown",
   "metadata": {},
   "source": [
    "#### **SVM**"
   ]
  },
  {
   "cell_type": "code",
   "execution_count": 18,
   "metadata": {},
   "outputs": [
    {
     "name": "stdout",
     "output_type": "stream",
     "text": [
      "SVM:\n",
      "Train Accuracy: 1.0\n",
      "Validation Accuracy: 0.5863453815261044\n",
      "Test Accuracy: 0.5943775100401606\n"
     ]
    }
   ],
   "source": [
    "if not trained_svm:\n",
    "\n",
    "    # Define SVM classifier\n",
    "    svm = SVC()\n",
    "\n",
    "    # Define parameter grid for grid search\n",
    "    svm_param_grid = {'kernel': ['linear', 'rbf'], 'C': [0.1, 1, 10]} \n",
    "\n",
    "    # Perform grid search for SVM\n",
    "    svm_grid_search = GridSearchCV(svm, svm_param_grid, cv=5)\n",
    "    svm_grid_search.fit(X_train_pca_smote, y_train_resampled_smote)\n",
    "\n",
    "    # Get best hyperparameters for SVM\n",
    "    best_svm_params = svm_grid_search.best_params_\n",
    "\n",
    "    # Train SVM classifier with best hyperparameters\n",
    "    best_svm = SVC(**best_svm_params)\n",
    "    best_svm.fit(X_train_pca_smote, y_train_resampled_smote)\n",
    "\n",
    "    # Save the trained SVM model\n",
    "    dump(best_svm, 'best_svm_model.joblib')\n",
    "\n",
    "    # Predictions on train, val, and test sets\n",
    "    train_pred_svm = best_svm.predict(X_train_pca_smote)\n",
    "    val_pred_svm = best_svm.predict(X_val_pca_smote)\n",
    "    test_pred_svm = best_svm.predict(X_test_pca_smote)\n",
    "\n",
    "    # Calculate accuracies\n",
    "    train_accuracy_svm = accuracy_score(y_train_resampled_smote, train_pred_svm)\n",
    "    val_accuracy_svm = accuracy_score(y_val, val_pred_svm)\n",
    "    test_accuracy_svm = accuracy_score(y_test, test_pred_svm)\n",
    "\n",
    "    # Print accuracies\n",
    "    print(\"SVM:\")\n",
    "    print(f\"Best params: {best_svm_params}\")\n",
    "    print(f\"Train Accuracy: {train_accuracy_svm}\")\n",
    "    print(f\"Validation Accuracy: {val_accuracy_svm}\")\n",
    "    print(f\"Test Accuracy: {test_accuracy_svm}\")\n",
    "\n",
    "else:\n",
    "    \n",
    "    # Load the saved SVM model\n",
    "    best_svm = load('best_svm_model.joblib')\n",
    "\n",
    "    # Predictions on train, val, and test sets\n",
    "    train_pred_svm = best_svm.predict(X_train_pca_smote)\n",
    "    val_pred_svm = best_svm.predict(X_val_pca_smote)\n",
    "    test_pred_svm = best_svm.predict(X_test_pca_smote)\n",
    "\n",
    "    # Calculate accuracies\n",
    "    train_accuracy_svm = accuracy_score(y_train_resampled_smote, train_pred_svm)\n",
    "    val_accuracy_svm = accuracy_score(y_val, val_pred_svm)\n",
    "    test_accuracy_svm = accuracy_score(y_test, test_pred_svm)\n",
    "\n",
    "    # Print accuracies\n",
    "    print(\"SVM:\")\n",
    "    # print(f\"Best params: {best_svm_params}\")\n",
    "    print(f\"Train Accuracy: {train_accuracy_svm}\")\n",
    "    print(f\"Validation Accuracy: {val_accuracy_svm}\")\n",
    "    print(f\"Test Accuracy: {test_accuracy_svm}\")"
   ]
  }
 ],
 "metadata": {
  "kernelspec": {
   "display_name": "Python 3",
   "language": "python",
   "name": "python3"
  },
  "language_info": {
   "codemirror_mode": {
    "name": "ipython",
    "version": 3
   },
   "file_extension": ".py",
   "mimetype": "text/x-python",
   "name": "python",
   "nbconvert_exporter": "python",
   "pygments_lexer": "ipython3",
   "version": "3.11.4"
  }
 },
 "nbformat": 4,
 "nbformat_minor": 2
}
